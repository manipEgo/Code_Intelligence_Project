{
 "cells": [
  {
   "cell_type": "code",
   "execution_count": null,
   "metadata": {
    "collapsed": true,
    "ExecuteTime": {
     "start_time": "2023-04-23T10:27:42.340414Z",
     "end_time": "2023-04-23T10:29:35.241143Z"
    }
   },
   "outputs": [],
   "source": [
    "%run train.py --train_file ../../CodeCompletion-token/dataset/py150/token_completion/train.txt --test_file ../../CodeCompletion-token/dataset/py150/token_completion/test.txt --sample_size 1000 --batch_size 256"
   ]
  }
 ],
 "metadata": {
  "kernelspec": {
   "display_name": "Python 3",
   "language": "python",
   "name": "python3"
  },
  "language_info": {
   "codemirror_mode": {
    "name": "ipython",
    "version": 2
   },
   "file_extension": ".py",
   "mimetype": "text/x-python",
   "name": "python",
   "nbconvert_exporter": "python",
   "pygments_lexer": "ipython2",
   "version": "2.7.6"
  }
 },
 "nbformat": 4,
 "nbformat_minor": 0
}
